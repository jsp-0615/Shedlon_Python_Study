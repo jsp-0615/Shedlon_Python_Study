{
 "cells": [
  {
   "cell_type": "code",
   "execution_count": 206,
   "metadata": {
    "collapsed": true
   },
   "outputs": [],
   "source": [
    "import pandas as pd"
   ]
  },
  {
   "cell_type": "code",
   "execution_count": 207,
   "outputs": [],
   "source": [
    "dir_path='J:\\\\NanTongAPTIV\\\\newTable\\\\'\n",
    "material_fileName='material.xlsx'\n",
    "mod_resource_fileName='mod_resource.xlsx'\n",
    "shift_mod_fileName='可变模具20230412.xlsx'\n",
    "material_path=dir_path+material_fileName\n",
    "mod_resource_path=dir_path+mod_resource_fileName\n",
    "shift_mod_path=dir_path+shift_mod_fileName\n",
    "material=pd.read_excel(material_path)\n"
   ],
   "metadata": {
    "collapsed": false
   }
  },
  {
   "cell_type": "code",
   "execution_count": 208,
   "outputs": [],
   "source": [
    "#拿模具的excel数据\n",
    "mod_resource=pd.read_excel(mod_resource_path)"
   ],
   "metadata": {
    "collapsed": false
   }
  },
  {
   "cell_type": "code",
   "execution_count": 209,
   "outputs": [],
   "source": [
    "#拿material表的\n",
    "material=pd.read_excel(material_path)"
   ],
   "metadata": {
    "collapsed": false
   }
  },
  {
   "cell_type": "code",
   "execution_count": 210,
   "outputs": [],
   "source": [
    "#拿可变模具的excel\n",
    "shift_mod_group=pd.read_excel(shift_mod_path,sheet_name='sheet1')"
   ],
   "metadata": {
    "collapsed": false
   }
  },
  {
   "cell_type": "code",
   "execution_count": 211,
   "outputs": [],
   "source": [
    "#最终要出现的表的样式\n",
    "shift_mod_efficiency=pd.DataFrame(columns=['resource_code','source_material_code','target_material_code','shift_time'])\n",
    "err_mod_message=pd.DataFrame(columns=['resource_code','material_code','shift_time'])\n",
    "err_material_message=pd.DataFrame(columns=['resource_code','material_code','shift_time'])\n",
    "err_mod_has_one_material_message=pd.DataFrame(columns=['resource_id','material_id','shift_time'])\n",
    "# err_mod_message"
   ],
   "metadata": {
    "collapsed": false
   }
  },
  {
   "cell_type": "code",
   "execution_count": 212,
   "outputs": [],
   "source": [
    "#数据格式准备\n",
    "shift_mod_group.rename(columns={'资源编号':'resource_code','物料':'material_code','轮换时间(分钟)':'shift_time'},inplace=True)\n",
    "material_efficiency=material[['id','code']]\n",
    "mod_resource_efficiency=mod_resource[['id','code']]"
   ],
   "metadata": {
    "collapsed": false
   }
  },
  {
   "cell_type": "code",
   "execution_count": 213,
   "outputs": [],
   "source": [
    "for i in range(1,len(shift_mod_group)):\n",
    "    temp_mod_resource_code_to_id=pd.DataFrame(columns=['id','code'])\n",
    "    # 拿到resource_id\n",
    "    temp_mod_resource_code_to_id=mod_resource_efficiency[shift_mod_group['resource_code'][i] == mod_resource_efficiency['code']]\n",
    "    if (temp_mod_resource_code_to_id.empty):\n",
    "        err_mod_message=pd.concat([err_mod_message,shift_mod_group.iloc[i,:].to_frame().T])\n",
    "        shift_mod_group['resource_code'][i]=None\n",
    "        continue\n",
    "    shift_mod_group['resource_code'][i]=temp_mod_resource_code_to_id['id'].values[0]\n",
    "shift_mod_group=shift_mod_group.dropna(subset=['resource_code'])\n",
    "shift_mod_group.rename(columns={'resource_code':'resource_id'},inplace=True)"
   ],
   "metadata": {
    "collapsed": false
   }
  },
  {
   "cell_type": "code",
   "execution_count": 214,
   "outputs": [
    {
     "name": "stdout",
     "output_type": "stream",
     "text": [
      "single positional indexer is out-of-bounds\n"
     ]
    }
   ],
   "source": [
    "shift_mod_group.rename(columns={'resource_id':'resource_code'},inplace=True)\n",
    "#先将sheet2的material_code全转成material_id\n",
    "# 还需增加将错误数据导出到另一张表的操作\n",
    "try:\n",
    "    for i in shift_mod_group.index:\n",
    "        if i==0:\n",
    "            continue\n",
    "        # 这里后面要加防御，避免出现这里的code不在material里面的情况\n",
    "        temp_material_code_to_id=pd.DataFrame(columns=['id','code'])\n",
    "        temp_material_code_to_id=material_efficiency[shift_mod_group['material_code'][i]==material_efficiency['code']]\n",
    "        if(temp_material_code_to_id.empty):\n",
    "            err_material_message=pd.concat([err_material_message,shift_mod_group.iloc[i,:].to_frame().T])\n",
    "            shift_mod_group['material_code'][i]=None\n",
    "            continue\n",
    "        shift_mod_group['material_code'][i]=temp_material_code_to_id['id'].values[0]\n",
    "except Exception as e:\n",
    "    print(e)\n",
    "shift_mod_group=shift_mod_group.dropna(subset=['material_code'])\n",
    "shift_mod_group.rename(columns={'material_code':'material_id','resource_code':'resource_id'},inplace=True)"
   ],
   "metadata": {
    "collapsed": false
   }
  },
  {
   "cell_type": "code",
   "execution_count": 215,
   "outputs": [],
   "source": [
    "err_mod_message.to_excel(dir_path+'模具编码出错.xlsx')\n",
    "err_material_message.to_excel(dir_path+'物料编码出错.xlsx')"
   ],
   "metadata": {
    "collapsed": false
   }
  },
  {
   "cell_type": "code",
   "execution_count": 216,
   "outputs": [],
   "source": [
    "#这一步要不要再议\n",
    "shift_mod_group=shift_mod_group.reset_index(drop=True)\n",
    "# shift_mod_group"
   ],
   "metadata": {
    "collapsed": false
   }
  },
  {
   "cell_type": "code",
   "execution_count": 217,
   "outputs": [],
   "source": [
    "i=1\n",
    "while (i<len(shift_mod_group)):\n",
    "# for i in range(1,len(shift_mod_group)):\n",
    "        #根据resource_id拿到这一组别有哪些数据,存在temp_shift_mod_group\n",
    "    temp_shift_mod_group=shift_mod_group[shift_mod_group['resource_id'][i]==shift_mod_group['resource_id']]\n",
    "    if len(temp_shift_mod_group)==1 or shift_mod_group['resource_id'][i]==None:\n",
    "        err_mod_has_one_material_message=pd.concat([err_mod_has_one_material_message,shift_mod_group.iloc[i,:].to_frame().T])\n",
    "        shift_mod_group['resource_id'][i]=None\n",
    "        i+=1\n",
    "        continue\n",
    "    #上面拿到的只有一条的时候直接删除，不要犹豫，犹豫就会败北\n",
    "    temp_shift_mod_group=temp_shift_mod_group.reset_index(drop=True)\n",
    "    #这是最终所需要的表\n",
    "    temp_shift_mod=pd.DataFrame(columns=['resource_code','source_material_code','target_material_code','shift_time'],index=range(len(temp_shift_mod_group)*(len(temp_shift_mod_group)-1)))\n",
    "    temp_index=0\n",
    "    for j in range(len(temp_shift_mod_group)):\n",
    "        #当下标比这个A(n,2)=n*(n-1)大的时候\n",
    "        if(temp_index>(len(temp_shift_mod_group)*(len(temp_shift_mod_group)-1))):\n",
    "            break\n",
    "        for s in range(len(temp_shift_mod_group)):\n",
    "            # temp_shift_mod['resource_code'][temp_index]=shift_mod_group['resource_id'][i]\n",
    "            temp_shift_mod['resource_code'][temp_index]=temp_shift_mod_group['resource_id'][0]\n",
    "            # 从sheet1拿到shift_time，对于同一组的它的shift_time应该是不变的\n",
    "            temp_shift_mod['shift_time'][temp_index]=temp_shift_mod_group['shift_time'][0]\n",
    "            # 做len(material_group)次循环，每次拿到一个作为source_material_id，剩下的作为target_material_id\n",
    "            temp_shift_mod['source_material_code'][temp_index]=temp_shift_mod_group['material_id'][j]\n",
    "            if(s==j):\n",
    "                continue\n",
    "            else:\n",
    "                temp_shift_mod['target_material_code'][temp_index]=temp_shift_mod_group['material_id'][s]\n",
    "                temp_index+=1\n",
    "    #在temp_shift_mod里面已经有A(N,2)条数据了，这时候就和最终的表进行拼接\n",
    "    shift_mod_efficiency=pd.concat([shift_mod_efficiency,temp_shift_mod],ignore_index=True)\n",
    "    i+=len(temp_shift_mod_group)\n",
    "err_mod_has_one_material_message.rename(columns={'material_id':'material_code','resource_id':'resource_code'},inplace=True)\n",
    "err_mod_has_one_material_message.to_excel(dir_path+'模具只对应一条物料.xlsx',sheet_name='sheet1', index=False)\n",
    "shift_mod_efficiency.to_excel(dir_path+'可变模具转换后.xlsx',sheet_name='sheet1', index=False)"
   ],
   "metadata": {
    "collapsed": false
   }
  }
 ],
 "metadata": {
  "kernelspec": {
   "display_name": "Python 3",
   "language": "python",
   "name": "python3"
  },
  "language_info": {
   "codemirror_mode": {
    "name": "ipython",
    "version": 2
   },
   "file_extension": ".py",
   "mimetype": "text/x-python",
   "name": "python",
   "nbconvert_exporter": "python",
   "pygments_lexer": "ipython2",
   "version": "2.7.6"
  }
 },
 "nbformat": 4,
 "nbformat_minor": 0
}

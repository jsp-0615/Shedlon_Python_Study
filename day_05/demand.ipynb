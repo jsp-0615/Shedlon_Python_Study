{
 "cells": [
  {
   "cell_type": "code",
   "execution_count": 337,
   "metadata": {
    "collapsed": true
   },
   "outputs": [],
   "source": [
    "import pandas as pd\n",
    "import numpy as np"
   ]
  },
  {
   "cell_type": "code",
   "execution_count": 338,
   "outputs": [],
   "source": [
    "dir_path='J:\\\\NanTongAPTIV\\\\newTable\\\\'\n",
    "material_fileName='material.xlsx'\n",
    "mod_resource_fileName='mod_resource.xlsx'\n",
    "shift_mod_fileName='可变模具.xlsx'\n",
    "material_path=dir_path+material_fileName\n",
    "mod_resource_path=dir_path+mod_resource_fileName\n",
    "shift_mod_path=dir_path+shift_mod_fileName\n",
    "material=pd.read_excel(material_path)\n",
    "mod_resource=pd.read_excel(mod_resource_path)\n",
    "shift_mod_group=pd.read_excel(shift_mod_path,sheet_name='sheet1')\n",
    "material_group=pd.read_excel(shift_mod_path,sheet_name='sheet2')"
   ],
   "metadata": {
    "collapsed": false
   }
  },
  {
   "cell_type": "code",
   "execution_count": 339,
   "outputs": [],
   "source": [
    "#最终要出现的表的样式\n",
    "shift_mod_efficiency=pd.DataFrame(columns=['resource_code','source_material_code','target_material_code','shift_time'])\n",
    "err_mod_message=pd.DataFrame(columns=['resource_code','material_group','shift_time'])\n",
    "err_material_message=pd.DataFrame(columns=['material_group','material_code'])"
   ],
   "metadata": {
    "collapsed": false
   }
  },
  {
   "cell_type": "code",
   "execution_count": 340,
   "outputs": [],
   "source": [
    "# 需要建立一个映射关系，模具code←→id，物料code←→id，需要生成类数据库列的Excel表"
   ],
   "metadata": {
    "collapsed": false
   }
  },
  {
   "cell_type": "code",
   "execution_count": 341,
   "outputs": [],
   "source": [
    "#数据格式准备\n",
    "shift_mod_group.rename(columns={'资源编号':'resource_code','物料组别':'material_group','轮换时间(分钟)':'shift_time'},inplace=True)\n",
    "material_group.rename(columns={'物料组别':'material_group','物料编号':'material_code'},inplace=True)\n",
    "material_efficiency=material[['id','code']]\n",
    "mod_resource_efficiency=mod_resource[['id','code']]"
   ],
   "metadata": {
    "collapsed": false
   }
  },
  {
   "cell_type": "code",
   "execution_count": 342,
   "outputs": [],
   "source": [
    "#将sheet1的resource_code转化未resource_id，并将错误数据在这里抛出\n",
    "# 还需增加将错误数据导出到另一张表的操作\n",
    "for i in range(1,len(shift_mod_group)):\n",
    "    temp_mod_resource_code_to_id=pd.DataFrame(columns=['id','code'])\n",
    "    # 拿到resource_id\n",
    "    temp_mod_resource_code_to_id=mod_resource_efficiency[shift_mod_group['resource_code'][i] == mod_resource_efficiency['code']]\n",
    "    if (temp_mod_resource_code_to_id.empty):\n",
    "        err_mod_message=pd.concat([err_mod_message,shift_mod_group.iloc[i,:].to_frame().T])\n",
    "        shift_mod_group['resource_code'][i]=None\n",
    "        continue\n",
    "    shift_mod_group['resource_code'][i]=temp_mod_resource_code_to_id['id'].values[0]\n",
    "shift_mod_group=shift_mod_group.dropna(subset=['resource_code'])\n",
    "shift_mod_group.rename(columns={'resource_code':'resource_id'},inplace=True)"
   ],
   "metadata": {
    "collapsed": false
   }
  },
  {
   "cell_type": "code",
   "execution_count": 343,
   "outputs": [],
   "source": [
    "# shift_mod_group"
   ],
   "metadata": {
    "collapsed": false
   }
  },
  {
   "cell_type": "code",
   "execution_count": 344,
   "outputs": [],
   "source": [
    "#先将sheet2的material_code全转成material_id\n",
    "# 还需增加将错误数据导出到另一张表的操作\n",
    "for i in range(1,len(material_group)):\n",
    "    # 这里后面要加防御，避免出现这里的code不在material里面的情况\n",
    "    temp_material_group_code_to_id=pd.DataFrame(columns=['id','code'])\n",
    "    temp_material_group_code_to_id=material_efficiency[material_group['material_code'][i]==material_efficiency['code']]\n",
    "    if(temp_material_group_code_to_id.empty):\n",
    "        err_material_message=pd.concat([err_material_message,material_group.iloc[i,:].to_frame().T])\n",
    "        material_group['material_code'][i]=None\n",
    "        continue\n",
    "    material_group['material_code'][i]=temp_material_group_code_to_id['id'].values[0]\n",
    "material_group=material_group.dropna(subset=['material_code'])\n",
    "material_group.rename(columns={'material_code':'material_id'},inplace=True)"
   ],
   "metadata": {
    "collapsed": false
   }
  },
  {
   "cell_type": "code",
   "execution_count": 345,
   "outputs": [],
   "source": [
    "for i in range(1,len(shift_mod_group)):\n",
    "    # 这里对数据需要进行一个处理，如果一个组只有一条数据，则导出\n",
    "    # 从sheet1拿到material_group，拿到sheet2去得到其一个组的所有material_id，准备去做排列\n",
    "    material_group_value=shift_mod_group['material_group'][i]\n",
    "    temp_material_group=material_group[material_group_value==material_group['material_group']]\n",
    "    temp_material_group=temp_material_group.reset_index(drop=True)\n",
    "    temp_shift_mod=pd.DataFrame(columns=['resource_code','source_material_code','target_material_code','shift_time'],index=range(len(temp_material_group)*(len(temp_material_group)-1)))\n",
    "    # 在最终要输出的格式的下标需要另外定义，因为存在排列，如果一个组有4个元素，则需要导出A(4,2)=12条数据\n",
    "    # 两种错误要进行特殊说明1、当sheet1里面的code没有对应id的时候，前面已经把他删除和导出处理了，那么这个物料组别的数据在sheet2理应也要删除\n",
    "    # 2、material的code不存在删除了也就不进行排列\n",
    "    temp_index=0\n",
    "    for j in range(len(temp_material_group)):\n",
    "        #当下标比这个A(n,2)=n*(n-1)大的时候\n",
    "        if(temp_index>(len(temp_material_group)*(len(temp_material_group)-1))):\n",
    "            break\n",
    "        for s in range(len(temp_material_group)):\n",
    "            # temp_shift_mod['resource_code'][temp_index]=shift_mod_group['resource_id'][i]\n",
    "            # 这样报错： index 0 is out of bounds for axis 0 with size 0 是因为我创建了一个空的temp_shift_mod\n",
    "            # 解决方法1：我在创建的时候根据规则给他创建一个相应大小的dataframe\n",
    "            temp_shift_mod['resource_code'][temp_index]=shift_mod_group['resource_id'][i]\n",
    "            # 从sheet1拿到shift_time，对于同一组的它的shift_time应该是不变的\n",
    "            temp_shift_mod['shift_time'][temp_index]=shift_mod_group['shift_time'][i]\n",
    "            # 做len(material_group)次循环，每次拿到一个作为source_material_id，剩下的作为target_material_id\n",
    "            temp_shift_mod['source_material_code'][temp_index]=temp_material_group['material_id'][j]\n",
    "            if(s==j):\n",
    "                continue\n",
    "            else:\n",
    "                temp_shift_mod['target_material_code'][temp_index]=temp_material_group['material_id'][s]\n",
    "                temp_index+=1\n",
    "    #在temp_shift_mod里面已经有A(N,2)条数据了，这时候就和最终的表进行拼接\n",
    "    shift_mod_efficiency=pd.concat([shift_mod_efficiency,temp_shift_mod],ignore_index=True)\n",
    "shift_mod_efficiency=shift_mod_efficiency.dropna()\n",
    "temp_shift_mod=pd.DataFrame(['resource_code','source_material_code','target_material_code','shift_time']).T\n",
    "temp_shift_mod.columns=shift_mod_efficiency.columns\n",
    "shift_mod_efficiency=pd.concat([temp_shift_mod,shift_mod_efficiency],axis=0,ignore_index=True)\n",
    "shift_mod_efficiency.rename(columns={'resource_code':'资源编号','source_material_code':'源物料编号','target_material_code':'目标物料编号','shift_time':'轮换时间(分钟)'},inplace=True)\n",
    "shift_mod_efficiency.to_excel(dir_path+'可变模具_python.xlsx', sheet_name='sheet1', index=False)\n",
    "err_material_message.to_excel(dir_path+'可变模具_物料_出错数据_python.xlsx', sheet_name='sheet1', index=False)\n",
    "err_mod_message.to_excel(dir_path+'可变模具_模具_出错数据_python.xlsx', sheet_name='sheet1', index=False)"
   ],
   "metadata": {
    "collapsed": false
   }
  }
 ],
 "metadata": {
  "kernelspec": {
   "display_name": "Python 3",
   "language": "python",
   "name": "python3"
  },
  "language_info": {
   "codemirror_mode": {
    "name": "ipython",
    "version": 2
   },
   "file_extension": ".py",
   "mimetype": "text/x-python",
   "name": "python",
   "nbconvert_exporter": "python",
   "pygments_lexer": "ipython2",
   "version": "2.7.6"
  }
 },
 "nbformat": 4,
 "nbformat_minor": 0
}

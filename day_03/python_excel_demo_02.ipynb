{
 "cells": [
  {
   "cell_type": "code",
   "execution_count": 19,
   "metadata": {
    "collapsed": true
   },
   "outputs": [],
   "source": [
    "from openpyxl import load_workbook\n",
    "import pyodbc"
   ]
  },
  {
   "cell_type": "code",
   "execution_count": 20,
   "outputs": [],
   "source": [
    "#连接数据库\n",
    "server = 'DESKTOP-DH171PS\\SQLSERVERSHELDON'  # SQL Server服务器名称\n",
    "database = 'DB_ORAPS'  # 数据库名称\n",
    "username = 'sa'  # 数据库用户名\n",
    "password = '0615..jsp.'  # 数据库密码"
   ],
   "metadata": {
    "collapsed": false
   }
  },
  {
   "cell_type": "code",
   "execution_count": 21,
   "outputs": [],
   "source": [
    "#定义dept类来接收\n",
    "class Dept(object):\n",
    "    id=''\n",
    "    deptName=''\n",
    "    address=''\n",
    "    def __init__(self, data):\n",
    "        self.id = data.get('id')\n",
    "        self.name = data.get('deptName')\n",
    "        self.age = data.get('address')"
   ],
   "metadata": {
    "collapsed": false
   }
  },
  {
   "cell_type": "code",
   "execution_count": 22,
   "outputs": [],
   "source": [
    "# excel=load_workbook(\"J:\\\\培训期文件\\\\Excel函数实操(jsp实操版).xlsx\",data_only=True)\n",
    "# # for sheet in excel.worksheets:\n",
    "# #     print(sheet.title)\n",
    "#\n",
    "# activeSheet=excel.worksheets[3]\n",
    "# # for row in activeSheet.iter_rows(min_row=1):\n",
    "# #     for cell in row:\n",
    "# #         print(cell.value)\n",
    "# print(activeSheet[\"F10\"].value)#data_only=False时 =IF($C10>=60,\"及格了\",\"不及格\")\n",
    "# print(activeSheet[\"F10\"].value)#data_only=true 及格了"
   ],
   "metadata": {
    "collapsed": false
   }
  },
  {
   "cell_type": "code",
   "execution_count": 23,
   "outputs": [
    {
     "ename": "DataError",
     "evalue": "('22018', \"[22018] [Microsoft][ODBC SQL Server Driver][SQL Server]在将 nvarchar 值 '东京' 转换成数据类型 int 时失败。 (245) (SQLExecDirectW)\")",
     "output_type": "error",
     "traceback": [
      "\u001B[1;31m---------------------------------------------------------------------------\u001B[0m",
      "\u001B[1;31mDataError\u001B[0m                                 Traceback (most recent call last)",
      "Cell \u001B[1;32mIn[23], line 20\u001B[0m\n\u001B[0;32m     18\u001B[0m sql\u001B[38;5;241m=\u001B[39m\u001B[38;5;124m\"\u001B[39m\u001B[38;5;124minsert into t_dept(id,deptName,address) values(?,?,?)\u001B[39m\u001B[38;5;124m\"\u001B[39m\n\u001B[0;32m     19\u001B[0m \u001B[38;5;28;01mfor\u001B[39;00m dept \u001B[38;5;129;01min\u001B[39;00m deptList:\n\u001B[1;32m---> 20\u001B[0m     \u001B[43mcursor\u001B[49m\u001B[38;5;241;43m.\u001B[39;49m\u001B[43mexecute\u001B[49m\u001B[43m(\u001B[49m\u001B[43msql\u001B[49m\u001B[43m,\u001B[49m\u001B[43mdept\u001B[49m\u001B[38;5;241;43m.\u001B[39;49m\u001B[43mid\u001B[49m\u001B[43m,\u001B[49m\u001B[43mdept\u001B[49m\u001B[38;5;241;43m.\u001B[39;49m\u001B[43mdeptName\u001B[49m\u001B[43m,\u001B[49m\u001B[43mdept\u001B[49m\u001B[38;5;241;43m.\u001B[39;49m\u001B[43maddress\u001B[49m\u001B[43m)\u001B[49m\n\u001B[0;32m     21\u001B[0m cursor\u001B[38;5;241m.\u001B[39mclose()\n",
      "\u001B[1;31mDataError\u001B[0m: ('22018', \"[22018] [Microsoft][ODBC SQL Server Driver][SQL Server]在将 nvarchar 值 '东京' 转换成数据类型 int 时失败。 (245) (SQLExecDirectW)\")"
     ]
    }
   ],
   "source": [
    "excel=load_workbook(\"J:\\\\tempDocument\\\\员工表格.xlsx\",data_only=True)\n",
    "sheet=excel.worksheets[1]\n",
    "dict={}\n",
    "deptList=[]\n",
    "varialeName = []\n",
    "for row in sheet.iter_rows(min_row=1,max_row=1):\n",
    "    for cell in row:\n",
    "        varialeName.append(cell.value)\n",
    "for row in sheet.iter_rows(min_row=2):\n",
    "    i=0\n",
    "    for cell in row:\n",
    "        dict[varialeName[i]]=cell.value\n",
    "    dept=Dept(dict)\n",
    "    deptList.append(dept)\n",
    "with pyodbc.connect(\n",
    "    'DRIVER={SQL Server};SERVER=' + server + ';DATABASE=' + database + ';UID=' + username + ';PWD=' + password) as conn:\n",
    "    cursor=conn.cursor()\n",
    "    sql=\"insert into t_dept(id,deptName,address) values(?,?,?)\"\n",
    "    for dept in deptList:\n",
    "        cursor.execute(sql,dept.id,dept.deptName,dept.address)\n",
    "    cursor.close()\n"
   ],
   "metadata": {
    "collapsed": false
   }
  },
  {
   "cell_type": "code",
   "execution_count": null,
   "outputs": [],
   "source": [],
   "metadata": {
    "collapsed": false
   }
  }
 ],
 "metadata": {
  "kernelspec": {
   "display_name": "Python 3",
   "language": "python",
   "name": "python3"
  },
  "language_info": {
   "codemirror_mode": {
    "name": "ipython",
    "version": 2
   },
   "file_extension": ".py",
   "mimetype": "text/x-python",
   "name": "python",
   "nbconvert_exporter": "python",
   "pygments_lexer": "ipython2",
   "version": "2.7.6"
  }
 },
 "nbformat": 4,
 "nbformat_minor": 0
}
